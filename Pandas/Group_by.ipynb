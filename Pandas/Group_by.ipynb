{
 "cells": [
  {
   "cell_type": "markdown",
   "metadata": {},
   "source": []
  },
  {
   "cell_type": "code",
   "execution_count": 1,
   "metadata": {},
   "outputs": [],
   "source": [
    "import pandas as pd"
   ]
  },
  {
   "cell_type": "code",
   "execution_count": null,
   "metadata": {},
   "outputs": [
    {
     "name": "stdout",
     "output_type": "stream",
     "text": [
      "    YEAR       Y      W       R      L      K\n",
      "0   1948   1.214  0.243  0.1454  1.415  0.612\n",
      "1   1949   1.354  0.260  0.2181  1.384  0.559\n",
      "2   1950   1.569  0.278  0.3157  1.388  0.573\n",
      "3   1951   1.948  0.297  0.3940  1.550  0.564\n",
      "4   1952   2.265  0.310  0.3559  1.802  0.574\n",
      "5   1953   2.731  0.322  0.3593  1.926  0.711\n",
      "6   1954   3.025  0.335  0.4025  1.964  0.776\n",
      "7   1955   3.562  0.350  0.3961  2.116  0.827\n",
      "8   1956   3.979  0.361  0.3822  2.435  0.800\n",
      "9   1957   4.420  0.379  0.3045  2.707  0.921\n",
      "10  1958   4.563  0.391  0.3284  2.706  1.067\n",
      "11  1959   5.385  0.426  0.3856  2.846  1.083\n",
      "12  1960   5.554  0.441  0.3193  3.089  1.481\n",
      "13  1961   5.465  0.460  0.3079  3.122  1.736\n",
      "14  1962   5.825  0.485  0.3783  3.184  1.926\n",
      "15  1963   6.876  0.506  0.4180  3.263  2.041\n",
      "16  1964   7.823  0.538  0.5163  3.412  1.997\n",
      "17  1965   9.120  0.564  0.5879  3.623  2.257\n",
      "18  1966  10.512  0.586  0.5369  4.074  2.742\n",
      "19  1967  13.020  0.622  0.4443  4.710  3.564\n",
      "20  1968  15.261  0.666  0.3052  5.217  4.767\n",
      "21  1969  16.313  0.731  0.2332  5.569  6.511\n",
      "22  1970  16.002  0.831  0.1883  5.495  7.627\n",
      "23  1971  15.876  0.906  0.2023  5.334  8.673\n",
      "24  1972  16.662  1.000  0.2506  5.345  8.331\n",
      "25  1973  17.014  1.056  0.2668  5.662  8.557\n",
      "26  1974  19.305  1.131  0.2664  5.729  9.508\n",
      "27  1975  18.721  1.247  0.2301  5.722  9.062\n",
      "28  1976  19.250  1.375  0.3452  5.762  8.262\n",
      "29  1977  20.647  1.544  0.4508  5.877  7.474\n",
      "30  1978  22.726  1.703  0.5877  6.108  7.104\n",
      "31  1979  23.619  1.779  0.5346  6.852  6.874\n",
      "   YEAR      Y      W       R      L      K\n",
      "0  1948  1.214  0.243  0.1454  1.415  0.612\n",
      "1  1949  1.354  0.260  0.2181  1.384  0.559\n",
      "2  1950  1.569  0.278  0.3157  1.388  0.573\n",
      "3  1951  1.948  0.297  0.3940  1.550  0.564\n",
      "4  1952  2.265  0.310  0.3559  1.802  0.574\n"
     ]
    }
   ],
   "source": [
    "data  = pd.read_excel('airline.xls')\n",
    "\n",
    "print(data)"
   ]
  },
  {
   "cell_type": "code",
   "execution_count": 3,
   "metadata": {},
   "outputs": [
    {
     "name": "stdout",
     "output_type": "stream",
     "text": [
      "   YEAR      Y      W       R      L      K\n",
      "0  1948  1.214  0.243  0.1454  1.415  0.612\n",
      "1  1949  1.354  0.260  0.2181  1.384  0.559\n",
      "2  1950  1.569  0.278  0.3157  1.388  0.573\n",
      "3  1951  1.948  0.297  0.3940  1.550  0.564\n",
      "4  1952  2.265  0.310  0.3559  1.802  0.574\n"
     ]
    }
   ],
   "source": [
    "print(data.head())"
   ]
  },
  {
   "cell_type": "code",
   "execution_count": 6,
   "metadata": {},
   "outputs": [
    {
     "name": "stdout",
     "output_type": "stream",
     "text": [
      "        W\n",
      "Y        \n",
      "1.214   1\n",
      "1.354   1\n",
      "1.569   1\n",
      "1.948   1\n",
      "2.265   1\n",
      "2.731   1\n",
      "3.025   1\n",
      "3.562   1\n",
      "3.979   1\n",
      "4.420   1\n",
      "4.563   1\n",
      "5.385   1\n",
      "5.465   1\n",
      "5.554   1\n",
      "5.825   1\n",
      "6.876   1\n",
      "7.823   1\n",
      "9.120   1\n",
      "10.512  1\n",
      "13.020  1\n",
      "15.261  1\n",
      "15.876  1\n",
      "16.002  1\n",
      "16.313  1\n",
      "16.662  1\n",
      "17.014  1\n",
      "18.721  1\n",
      "19.250  1\n",
      "19.305  1\n",
      "20.647  1\n",
      "22.726  1\n",
      "23.619  1\n"
     ]
    }
   ],
   "source": [
    "gp = data.groupby(\"Y\").agg({\"W\":\"count\"})\n",
    "\n",
    "print(gp)"
   ]
  },
  {
   "cell_type": "code",
   "execution_count": 7,
   "metadata": {},
   "outputs": [
    {
     "name": "stdout",
     "output_type": "stream",
     "text": [
      "            R\n",
      "W            \n",
      "0.243  0.1454\n",
      "0.260  0.2181\n",
      "0.278  0.3157\n",
      "0.297  0.3940\n",
      "0.310  0.3559\n",
      "0.322  0.3593\n",
      "0.335  0.4025\n",
      "0.350  0.3961\n",
      "0.361  0.3822\n",
      "0.379  0.3045\n",
      "0.391  0.3284\n",
      "0.426  0.3856\n",
      "0.441  0.3193\n",
      "0.460  0.3079\n",
      "0.485  0.3783\n",
      "0.506  0.4180\n",
      "0.538  0.5163\n",
      "0.564  0.5879\n",
      "0.586  0.5369\n",
      "0.622  0.4443\n",
      "0.666  0.3052\n",
      "0.731  0.2332\n",
      "0.831  0.1883\n",
      "0.906  0.2023\n",
      "1.000  0.2506\n",
      "1.056  0.2668\n",
      "1.131  0.2664\n",
      "1.247  0.2301\n",
      "1.375  0.3452\n",
      "1.544  0.4508\n",
      "1.703  0.5877\n",
      "1.779  0.5346\n"
     ]
    }
   ],
   "source": [
    "gp1 = data.groupby('W').agg({\"R\": \"max\"}) # max,min,mean, etc\n",
    "\n",
    "print(gp1)"
   ]
  },
  {
   "cell_type": "code",
   "execution_count": 22,
   "metadata": {},
   "outputs": [
    {
     "name": "stdout",
     "output_type": "stream",
     "text": [
      "  ID Names  Age\n",
      "0  1  NS-1   21\n",
      "1  2  NS-2   22\n",
      "2  3  NS-3   33\n",
      "3  4  NS-4   44\n",
      "4  5  NS-5   55\n",
      "5  7  NS-7   23\n",
      "6  8  NS-8   23\n",
      "7  9  NS-9   12\n",
      "-----------------\n",
      "   ID Names1  Age1\n",
      "0  11  NS-11    21\n",
      "1  21  NS-21    22\n",
      "2  31  NS-31    33\n",
      "3  41  NS-41    44\n",
      "4  51  NS-51    55\n",
      "5  71  NS-71    21\n",
      "6  81  NS-81    13\n",
      "7  91  NS-91    12\n"
     ]
    }
   ],
   "source": [
    "# Merge , join, and Concatenate in pandas\n",
    "\n",
    "data1 = {\n",
    "    \"ID\": [\"1\",\"2\",\"3\",\"4\",\"5\",\"7\",\"8\",\"9\"],\n",
    "    \"Names\":[\"NS-1\",\"NS-2\",\"NS-3\",\"NS-4\",\"NS-5\",\"NS-7\",\"NS-8\", \"NS-9\"],\n",
    "    \"Age\":[21,22,33,44,55,23,23,12]    \n",
    "        }\n",
    "\n",
    "data2 = {\n",
    "    \"ID\": [\"11\",\"21\",\"31\",\"41\",\"51\",\"71\",\"81\",\"91\"],\n",
    "    \"Names1\":[\"NS-11\",\"NS-21\",\"NS-31\",\"NS-41\",\"NS-51\",\"NS-71\",\"NS-81\", \"NS-91\"],\n",
    "    \"Age1\":[21,22,33,44,55,21,13,12]    \n",
    "        }\n",
    "\n",
    "d1 = pd.DataFrame(data1)\n",
    "d2 = pd.DataFrame(data2)\n",
    "\n",
    "print(d1)\n",
    "print(\"-----------------\")\n",
    "print(d2)"
   ]
  },
  {
   "cell_type": "code",
   "execution_count": 24,
   "metadata": {},
   "outputs": [
    {
     "name": "stdout",
     "output_type": "stream",
     "text": [
      "Empty DataFrame\n",
      "Columns: [ID, Names, Age, Names1, Age1]\n",
      "Index: []\n",
      "  ID Names  Age Names1  Age1\n",
      "0  1  NS-1   21    NaN   NaN\n",
      "1  2  NS-2   22    NaN   NaN\n",
      "2  3  NS-3   33    NaN   NaN\n",
      "3  4  NS-4   44    NaN   NaN\n",
      "4  5  NS-5   55    NaN   NaN\n",
      "5  7  NS-7   23    NaN   NaN\n",
      "6  8  NS-8   23    NaN   NaN\n",
      "7  9  NS-9   12    NaN   NaN\n"
     ]
    }
   ],
   "source": [
    "print(pd.merge(d1,d2, on=\"ID\"))\n",
    "\n",
    "print(pd.merge(left=d1,  right=d2,   on=\"ID\", how='left'))"
   ]
  },
  {
   "cell_type": "code",
   "execution_count": null,
   "metadata": {},
   "outputs": [],
   "source": [
    "# Concat also"
   ]
  },
  {
   "cell_type": "code",
   "execution_count": 27,
   "metadata": {},
   "outputs": [
    {
     "name": "stdout",
     "output_type": "stream",
     "text": [
      "{'as': ['aa-1', 'as-2'], 'price': [1, 2], 'Quality': [10, 100]}\n"
     ]
    }
   ],
   "source": [
    "# Compare\n",
    "\n",
    "dict = {\n",
    "    \"as\":[\"aa-1\",\"as-2\"],\n",
    "    \"price\" : [1,2],\n",
    "    \"Quality\" : [10,100]\n",
    "}\n",
    "\n",
    "print(dict)"
   ]
  },
  {
   "cell_type": "code",
   "execution_count": 28,
   "metadata": {},
   "outputs": [
    {
     "name": "stdout",
     "output_type": "stream",
     "text": [
      "     as  price  Quality\n",
      "0  aa-1      1       10\n",
      "1  as-2      2      100\n"
     ]
    }
   ],
   "source": [
    "df = pd.DataFrame(dict)\n",
    "print(df)"
   ]
  },
  {
   "cell_type": "code",
   "execution_count": 29,
   "metadata": {},
   "outputs": [
    {
     "data": {
      "text/plain": [
       "as         as-2\n",
       "price         2\n",
       "Quality     100\n",
       "Name: 1, dtype: object"
      ]
     },
     "execution_count": 29,
     "metadata": {},
     "output_type": "execute_result"
    }
   ],
   "source": [
    "df.loc[1]"
   ]
  },
  {
   "cell_type": "code",
   "execution_count": 31,
   "metadata": {},
   "outputs": [
    {
     "name": "stdout",
     "output_type": "stream",
     "text": [
      "     as  price  Quality\n",
      "0  aa-1    1.0     10.0\n",
      "1  as-2    2.0    100.0\n",
      "2   NaN  200.0      NaN\n"
     ]
    }
   ],
   "source": [
    "\n",
    "df.loc[2,\"price\"] = 200\n",
    "\n",
    "print(df)"
   ]
  },
  {
   "cell_type": "markdown",
   "metadata": {},
   "source": []
  },
  {
   "cell_type": "code",
   "execution_count": 33,
   "metadata": {},
   "outputs": [
    {
     "name": "stdout",
     "output_type": "stream",
     "text": [
      "     as  price       Quality\n",
      "0  aa-1    1.0          10.0\n",
      "1  as-2    2.0         100.0\n",
      "2  as-3  200.0  100000000000\n"
     ]
    },
    {
     "name": "stderr",
     "output_type": "stream",
     "text": [
      "C:\\Users\\nagar\\AppData\\Local\\Temp\\ipykernel_20172\\3968516752.py:2: FutureWarning: Setting an item of incompatible dtype is deprecated and will raise an error in a future version of pandas. Value '100000000000' has dtype incompatible with float64, please explicitly cast to a compatible dtype first.\n",
      "  df.loc[2,\"Quality\"] = '100000000000'\n"
     ]
    }
   ],
   "source": [
    "\n",
    "df.loc[2,\"as\"] = 'as-3'\n",
    "df.loc[2,\"Quality\"] = '100000000000'\n",
    "\n",
    "print(df)"
   ]
  },
  {
   "cell_type": "code",
   "execution_count": null,
   "metadata": {},
   "outputs": [],
   "source": [
    "# Pivoting and Melting\n",
    "#  DataFrams"
   ]
  },
  {
   "cell_type": "code",
   "execution_count": 35,
   "metadata": {},
   "outputs": [
    {
     "name": "stdout",
     "output_type": "stream",
     "text": [
      "{'key': ['1', '2', '3', '4'], 'name': ['a', 'w', 'r', 'y'], 'house': ['red', 'green', 'blue', 'yellow']}\n"
     ]
    }
   ],
   "source": [
    "dict = {\n",
    "    \"key\":[\"1\",\"2\",\"3\",\"4\"],\n",
    "    \"name\":[\"a\",\"w\",\"r\",\"y\"],\n",
    "    \"house\":[\"red\", \"green\", \"blue\", \"yellow\"]\n",
    "}\n",
    "\n",
    "print(dict)"
   ]
  },
  {
   "cell_type": "code",
   "execution_count": 37,
   "metadata": {},
   "outputs": [
    {
     "name": "stdout",
     "output_type": "stream",
     "text": [
      "  key name   house\n",
      "0   1    a     red\n",
      "1   2    w   green\n",
      "2   3    r    blue\n",
      "3   4    y  yellow\n"
     ]
    }
   ],
   "source": [
    "df = pd.DataFrame(dict)\n",
    "print(df)"
   ]
  },
  {
   "cell_type": "code",
   "execution_count": 39,
   "metadata": {},
   "outputs": [
    {
     "data": {
      "text/html": [
       "<div>\n",
       "<style scoped>\n",
       "    .dataframe tbody tr th:only-of-type {\n",
       "        vertical-align: middle;\n",
       "    }\n",
       "\n",
       "    .dataframe tbody tr th {\n",
       "        vertical-align: top;\n",
       "    }\n",
       "\n",
       "    .dataframe thead th {\n",
       "        text-align: right;\n",
       "    }\n",
       "</style>\n",
       "<table border=\"1\" class=\"dataframe\">\n",
       "  <thead>\n",
       "    <tr style=\"text-align: right;\">\n",
       "      <th>name</th>\n",
       "      <th>a</th>\n",
       "      <th>r</th>\n",
       "      <th>w</th>\n",
       "      <th>y</th>\n",
       "    </tr>\n",
       "    <tr>\n",
       "      <th>key</th>\n",
       "      <th></th>\n",
       "      <th></th>\n",
       "      <th></th>\n",
       "      <th></th>\n",
       "    </tr>\n",
       "  </thead>\n",
       "  <tbody>\n",
       "    <tr>\n",
       "      <th>1</th>\n",
       "      <td>red</td>\n",
       "      <td>NaN</td>\n",
       "      <td>NaN</td>\n",
       "      <td>NaN</td>\n",
       "    </tr>\n",
       "    <tr>\n",
       "      <th>2</th>\n",
       "      <td>NaN</td>\n",
       "      <td>NaN</td>\n",
       "      <td>green</td>\n",
       "      <td>NaN</td>\n",
       "    </tr>\n",
       "    <tr>\n",
       "      <th>3</th>\n",
       "      <td>NaN</td>\n",
       "      <td>blue</td>\n",
       "      <td>NaN</td>\n",
       "      <td>NaN</td>\n",
       "    </tr>\n",
       "    <tr>\n",
       "      <th>4</th>\n",
       "      <td>NaN</td>\n",
       "      <td>NaN</td>\n",
       "      <td>NaN</td>\n",
       "      <td>yellow</td>\n",
       "    </tr>\n",
       "  </tbody>\n",
       "</table>\n",
       "</div>"
      ],
      "text/plain": [
       "name    a     r      w       y\n",
       "key                           \n",
       "1     red   NaN    NaN     NaN\n",
       "2     NaN   NaN  green     NaN\n",
       "3     NaN  blue    NaN     NaN\n",
       "4     NaN   NaN    NaN  yellow"
      ]
     },
     "execution_count": 39,
     "metadata": {},
     "output_type": "execute_result"
    }
   ],
   "source": [
    "# print(df.pivot(\"key\", \"name\", \"house\"))\n",
    "\n",
    "df.pivot(index=\"key\", columns=\"name\", values=\"house\")\n"
   ]
  },
  {
   "cell_type": "code",
   "execution_count": 43,
   "metadata": {},
   "outputs": [
    {
     "name": "stdout",
     "output_type": "stream",
     "text": [
      "  name variable   value\n",
      "0    a    house     red\n",
      "1    w    house   green\n",
      "2    r    house    blue\n",
      "3    y    house  yellow\n"
     ]
    }
   ],
   "source": [
    "print(pd.melt(df, id_vars=[\"name\"], value_vars=[\"house\"]))"
   ]
  },
  {
   "cell_type": "code",
   "execution_count": 44,
   "metadata": {},
   "outputs": [
    {
     "name": "stdout",
     "output_type": "stream",
     "text": [
      "      name Attribute     Details            Source\n",
      "0    Alice     house  Gryffindor  Hogwarts Dataset\n",
      "1      Bob     house   Slytherin  Hogwarts Dataset\n",
      "2  Charlie     house   Ravenclaw  Hogwarts Dataset\n"
     ]
    }
   ],
   "source": [
    "import pandas as pd\n",
    "\n",
    "# Sample DataFrame\n",
    "data = {\n",
    "    \"name\": [\"Alice\", \"Bob\", \"Charlie\"],\n",
    "    \"house\": [\"Gryffindor\", \"Slytherin\", \"Ravenclaw\"],\n",
    "    \"age\": [23, 25, 22]\n",
    "}\n",
    "\n",
    "df = pd.DataFrame(data)\n",
    "\n",
    "# Advanced melt operation\n",
    "melted_df = (\n",
    "    pd.melt(df, id_vars=[\"name\"], value_vars=[\"house\"])\n",
    "    .dropna()  # Drop rows with NaN values\n",
    "    .rename(columns={\"variable\": \"Attribute\", \"value\": \"Details\"})  # Rename columns\n",
    "    .assign(Source=\"Hogwarts Dataset\")  # Add metadata column\n",
    ")\n",
    "\n",
    "print(melted_df)\n"
   ]
  },
  {
   "cell_type": "code",
   "execution_count": 45,
   "metadata": {},
   "outputs": [
    {
     "name": "stdout",
     "output_type": "stream",
     "text": [
      "Thank You---Ns Loni\n"
     ]
    }
   ],
   "source": [
    "print(\"Thank You---Ns Loni\")"
   ]
  }
 ],
 "metadata": {
  "kernelspec": {
   "display_name": "Python 3",
   "language": "python",
   "name": "python3"
  },
  "language_info": {
   "codemirror_mode": {
    "name": "ipython",
    "version": 3
   },
   "file_extension": ".py",
   "mimetype": "text/x-python",
   "name": "python",
   "nbconvert_exporter": "python",
   "pygments_lexer": "ipython3",
   "version": "3.12.9"
  }
 },
 "nbformat": 4,
 "nbformat_minor": 2
}
