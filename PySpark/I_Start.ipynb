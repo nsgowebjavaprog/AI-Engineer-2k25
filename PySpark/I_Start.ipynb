{
 "cells": [
  {
   "cell_type": "code",
   "execution_count": 3,
   "metadata": {},
   "outputs": [
    {
     "name": "stdout",
     "output_type": "stream",
     "text": [
      "Defaulting to user installation because normal site-packages is not writeable\n",
      "Requirement already satisfied: pyspark in c:\\users\\nagar\\appdata\\local\\packages\\pythonsoftwarefoundation.python.3.12_qbz5n2kfra8p0\\localcache\\local-packages\\python312\\site-packages (3.5.5)\n",
      "Requirement already satisfied: py4j==0.10.9.7 in c:\\users\\nagar\\appdata\\local\\packages\\pythonsoftwarefoundation.python.3.12_qbz5n2kfra8p0\\localcache\\local-packages\\python312\\site-packages (from pyspark) (0.10.9.7)\n"
     ]
    },
    {
     "name": "stderr",
     "output_type": "stream",
     "text": [
      "\n",
      "[notice] A new release of pip is available: 24.3.1 -> 25.0.1\n",
      "[notice] To update, run: C:\\Users\\nagar\\AppData\\Local\\Microsoft\\WindowsApps\\PythonSoftwareFoundation.Python.3.12_qbz5n2kfra8p0\\python.exe -m pip install --upgrade pip\n"
     ]
    }
   ],
   "source": [
    "!pip install pyspark"
   ]
  },
  {
   "cell_type": "code",
   "execution_count": 1,
   "metadata": {},
   "outputs": [],
   "source": [
    "import pyspark"
   ]
  },
  {
   "cell_type": "code",
   "execution_count": 4,
   "metadata": {},
   "outputs": [
    {
     "data": {
      "text/html": [
       "<div>\n",
       "<style scoped>\n",
       "    .dataframe tbody tr th:only-of-type {\n",
       "        vertical-align: middle;\n",
       "    }\n",
       "\n",
       "    .dataframe tbody tr th {\n",
       "        vertical-align: top;\n",
       "    }\n",
       "\n",
       "    .dataframe thead th {\n",
       "        text-align: right;\n",
       "    }\n",
       "</style>\n",
       "<table border=\"1\" class=\"dataframe\">\n",
       "  <thead>\n",
       "    <tr style=\"text-align: right;\">\n",
       "      <th></th>\n",
       "      <th>NAME</th>\n",
       "      <th>AGE</th>\n",
       "      <th>ADR</th>\n",
       "    </tr>\n",
       "  </thead>\n",
       "  <tbody>\n",
       "    <tr>\n",
       "      <th>0</th>\n",
       "      <td>NS-1</td>\n",
       "      <td>20</td>\n",
       "      <td>AAA</td>\n",
       "    </tr>\n",
       "    <tr>\n",
       "      <th>1</th>\n",
       "      <td>NS-2</td>\n",
       "      <td>21</td>\n",
       "      <td>BBB</td>\n",
       "    </tr>\n",
       "    <tr>\n",
       "      <th>2</th>\n",
       "      <td>NS-3</td>\n",
       "      <td>22</td>\n",
       "      <td>CCC</td>\n",
       "    </tr>\n",
       "    <tr>\n",
       "      <th>3</th>\n",
       "      <td>NS-4</td>\n",
       "      <td>23</td>\n",
       "      <td>DDD</td>\n",
       "    </tr>\n",
       "  </tbody>\n",
       "</table>\n",
       "</div>"
      ],
      "text/plain": [
       "   NAME  AGE  ADR\n",
       "0  NS-1   20  AAA\n",
       "1  NS-2   21  BBB\n",
       "2  NS-3   22  CCC\n",
       "3  NS-4   23  DDD"
      ]
     },
     "execution_count": 4,
     "metadata": {},
     "output_type": "execute_result"
    }
   ],
   "source": [
    "import pandas as pd\n",
    "pd.read_excel('pyspark_data.xlsx')"
   ]
  },
  {
   "cell_type": "code",
   "execution_count": 5,
   "metadata": {},
   "outputs": [],
   "source": [
    "from pyspark.sql import SparkSession"
   ]
  },
  {
   "cell_type": "code",
   "execution_count": 6,
   "metadata": {},
   "outputs": [],
   "source": [
    "spark = SparkSession.builder.appName('Practise').getOrCreate()"
   ]
  },
  {
   "cell_type": "code",
   "execution_count": 7,
   "metadata": {},
   "outputs": [
    {
     "data": {
      "text/html": [
       "\n",
       "            <div>\n",
       "                <p><b>SparkSession - in-memory</b></p>\n",
       "                \n",
       "        <div>\n",
       "            <p><b>SparkContext</b></p>\n",
       "\n",
       "            <p><a href=\"http://host.docker.internal:4040\">Spark UI</a></p>\n",
       "\n",
       "            <dl>\n",
       "              <dt>Version</dt>\n",
       "                <dd><code>v3.5.5</code></dd>\n",
       "              <dt>Master</dt>\n",
       "                <dd><code>local[*]</code></dd>\n",
       "              <dt>AppName</dt>\n",
       "                <dd><code>Practise</code></dd>\n",
       "            </dl>\n",
       "        </div>\n",
       "        \n",
       "            </div>\n",
       "        "
      ],
      "text/plain": [
       "<pyspark.sql.session.SparkSession at 0x1bff29c0770>"
      ]
     },
     "execution_count": 7,
     "metadata": {},
     "output_type": "execute_result"
    }
   ],
   "source": [
    "spark"
   ]
  },
  {
   "cell_type": "code",
   "execution_count": 8,
   "metadata": {},
   "outputs": [],
   "source": [
    "df_pyspark = spark.read.csv('survey_results_public.csv')"
   ]
  },
  {
   "cell_type": "code",
   "execution_count": 9,
   "metadata": {},
   "outputs": [
    {
     "name": "stdout",
     "output_type": "stream",
     "text": [
      "+----------+--------------------+--------+--------------------+--------------------+--------------------+--------------------+--------------+--------------------+--------------------+--------------------+--------------------+--------------------+---------+----------+----------------+--------------------+--------------------+--------------------+--------+--------+--------------------+--------------------+--------------------+--------+--------------------+--------------------+--------------+--------------------+---------+--------+-------------+-----------+--------------------+--------------------+--------------------+--------------------+--------------------+--------------------+----------+--------------------+--------------------+--------------------+--------------------+--------------------+--------------------+--------------------+--------------------+--------------------+--------------------+--------------------+--------------------+--------------------+--------------------+-----------+--------------------+-------------+--------------------+----------+--------------------+-----+--------------------+--------------------+-----------+----------------+--------------------+--------------------+--------------------+--------------------+-------------+--------------------+--------------------+--------------------+--------------------+---------------+--------------------+--------------------+----+------+-----+--------------------+--------------------+----------+--------------------+--------------------+\n",
      "|       _c0|                 _c1|     _c2|                 _c3|                 _c4|                 _c5|                 _c6|           _c7|                 _c8|                 _c9|                _c10|                _c11|                _c12|     _c13|      _c14|            _c15|                _c16|                _c17|                _c18|    _c19|    _c20|                _c21|                _c22|                _c23|    _c24|                _c25|                _c26|          _c27|                _c28|     _c29|    _c30|         _c31|       _c32|                _c33|                _c34|                _c35|                _c36|                _c37|                _c38|      _c39|                _c40|                _c41|                _c42|                _c43|                _c44|                _c45|                _c46|                _c47|                _c48|                _c49|                _c50|                _c51|                _c52|                _c53|       _c54|                _c55|         _c56|                _c57|      _c58|                _c59| _c60|                _c61|                _c62|       _c63|            _c64|                _c65|                _c66|                _c67|                _c68|         _c69|                _c70|                _c71|                _c72|                _c73|           _c74|                _c75|                _c76|_c77|  _c78| _c79|                _c80|                _c81|      _c82|                _c83|                _c84|\n",
      "+----------+--------------------+--------+--------------------+--------------------+--------------------+--------------------+--------------+--------------------+--------------------+--------------------+--------------------+--------------------+---------+----------+----------------+--------------------+--------------------+--------------------+--------+--------+--------------------+--------------------+--------------------+--------+--------------------+--------------------+--------------+--------------------+---------+--------+-------------+-----------+--------------------+--------------------+--------------------+--------------------+--------------------+--------------------+----------+--------------------+--------------------+--------------------+--------------------+--------------------+--------------------+--------------------+--------------------+--------------------+--------------------+--------------------+--------------------+--------------------+--------------------+-----------+--------------------+-------------+--------------------+----------+--------------------+-----+--------------------+--------------------+-----------+----------------+--------------------+--------------------+--------------------+--------------------+-------------+--------------------+--------------------+--------------------+--------------------+---------------+--------------------+--------------------+----+------+-----+--------------------+--------------------+----------+--------------------+--------------------+\n",
      "|Respondent|          MainBranch|Hobbyist|         OpenSourcer|          OpenSource|          Employment|             Country|       Student|             EdLevel|      UndergradMajor|            EduOther|             OrgSize|             DevType|YearsCode|Age1stCode|    YearsCodePro|           CareerSat|              JobSat|            MgrIdiot|MgrMoney| MgrWant|             JobSeek|        LastHireDate|             LastInt|FizzBuzz|          JobFactors|        ResumeUpdate|CurrencySymbol|        CurrencyDesc|CompTotal|CompFreq|ConvertedComp|WorkWeekHrs|            WorkPlan|       WorkChallenge|          WorkRemote|             WorkLoc|              ImpSyn|             CodeRev|CodeRevHrs|           UnitTests|         PurchaseHow|        PurchaseWhat|  LanguageWorkedWith|LanguageDesireNex...|  DatabaseWorkedWith|DatabaseDesireNex...|  PlatformWorkedWith|PlatformDesireNex...|  WebFrameWorkedWith|WebFrameDesireNex...|  MiscTechWorkedWith|MiscTechDesireNex...|          DevEnviron|      OpSys|          Containers|BlockchainOrg|        BlockchainIs|BetterLife|            ITperson|OffOn|         SocialMedia|        Extraversion| ScreenName|      SOVisit1st|         SOVisitFreq|           SOVisitTo|        SOFindAnswer|         SOTimeSaved|SOHowMuchTime|           SOAccount|          SOPartFreq|              SOJobs|            EntTeams|         SOComm|       WelcomeChange|        SONewContent| Age|Gender|Trans|           Sexuality|           Ethnicity|Dependents|        SurveyLength|          SurveyEase|\n",
      "|         1|I am a student wh...|     Yes|               Never|The quality of OS...|Not employed, and...|      United Kingdom|            No|Primary/elementar...|                  NA|Taught yourself a...|                  NA|                  NA|        4|        10|              NA|                  NA|                  NA|                  NA|      NA|      NA|                  NA|                  NA|                  NA|      NA|                  NA|                  NA|            NA|                  NA|       NA|      NA|           NA|         NA|                  NA|                  NA|                  NA|                  NA|                  NA|                  NA|        NA|                  NA|                  NA|                  NA|HTML/CSS;Java;Jav...|C;C++;C#;Go;HTML/...|              SQLite|               MySQL|       MacOS;Windows|Android;Arduino;W...|        Django;Flask|        Flask;jQuery|             Node.js|             Node.js|IntelliJ;Notepad+...|    Windows|I do not use cont...|           NA|                  NA|       Yes|Fortunately, some...|  Yes|             Twitter|              Online|   Username|            2017|A few times per m...|Find answers to s...|  3-5 times per week|Stack Overflow wa...|31-60 minutes|                  No|                  NA|No, I didn't know...|No, and I don't k...|        Neutral|Just as welcome n...|Tech articles wri...|  14|   Man|   No|Straight / Hetero...|                  NA|        No|Appropriate in le...|Neither easy nor ...|\n",
      "|         2|I am a student wh...|      No|Less than once pe...|The quality of OS...|Not employed, but...|Bosnia and Herzeg...|Yes, full-time|Secondary school ...|                  NA|Taken an online c...|                  NA|Developer, deskto...|       NA|        17|              NA|                  NA|                  NA|                  NA|      NA|      NA|I am actively loo...|I've never had a job|                  NA|      NA|Financial perform...|Something else ch...|            NA|                  NA|       NA|      NA|           NA|         NA|                  NA|                  NA|                  NA|                  NA|                  NA|                  NA|        NA|                  NA|                  NA|                  NA| C++;HTML/CSS;Python|C++;HTML/CSS;Java...|                  NA|               MySQL|             Windows|             Windows|              Django|              Django|                  NA|                  NA|        Atom;PyCharm|    Windows|I do not use cont...|           NA|Useful across man...|       Yes|                 Yes|  Yes|           Instagram|              Online|   Username|            2017|Daily or almost d...|Find answers to s...|  3-5 times per week|Stack Overflow wa...|11-30 minutes|                 Yes|A few times per m...|No, I knew that S...|No, and I don't k...|  Yes, somewhat|Just as welcome n...|Tech articles wri...|  19|   Man|   No|Straight / Hetero...|                  NA|        No|Appropriate in le...|Neither easy nor ...|\n",
      "|         3|I am not primaril...|     Yes|               Never|The quality of OS...|  Employed full-time|            Thailand|            No|Bachelor‚Äôs degr...|Web development o...|Taught yourself a...|100 to 499 employees|Designer;Develope...|        3|        22|               1|  Slightly satisfied|  Slightly satisfied|Not at all confident|Not sure|Not sure|I‚Äôm not activel...|       1-2 years ago|Interview with pe...|      No|Languages, framew...|I was preparing f...|           THB|           Thai baht|    23000| Monthly|         8820|         40|There's no schedu...|Distracting work ...|Less than once pe...|                Home|             Average|                  No|        NA|No, but I think w...|            Not sure|I have little or ...|            HTML/CSS|     Elixir;HTML/CSS|          PostgreSQL|          PostgreSQL|                  NA|                  NA|                  NA|           Other(s):|                  NA|                  NA|Vim;Visual Studio...|Linux-based|I do not use cont...|           NA|                  NA|       Yes|                 Yes|  Yes|              Reddit|In real life (in ...|   Username|            2011|A few times per week|Find answers to s...| 6-10 times per week|They were about t...|           NA|                 Yes|Less than once pe...|                 Yes|No, I've heard of...|        Neutral|Just as welcome n...|Tech meetups or e...|  28|   Man|   No|Straight / Hetero...|                  NA|       Yes|Appropriate in le...|Neither easy nor ...|\n",
      "|         4|I am a developer ...|      No|               Never|The quality of OS...|  Employed full-time|       United States|            No|Bachelor‚Äôs degr...|Computer science,...|Taken an online c...|100 to 499 employees|Developer, full-s...|        3|        16|Less than 1 year|      Very satisfied|  Slightly satisfied|      Very confident|      No|Not sure|I am not interest...|Less than a year ago|Write code by han...|      No|Languages, framew...|I was preparing f...|           USD|United States dollar|    61000|  Yearly|        61000|         80|There's no schedu...|                  NA|Less than once pe...|                Home|A little below av...|                  No|        NA|No, but I think w...|Developers typica...|I have little or ...| C;C++;C#;Python;SQL| C;C#;JavaScript;SQL|        MySQL;SQLite|        MySQL;SQLite|       Linux;Windows|       Linux;Windows|                  NA|                  NA|                .NET|                .NET|Eclipse;Vim;Visua...|    Windows|I do not use cont...|   Not at all|Useful for decent...|       Yes|                SIGH|  Yes|              Reddit|In real life (in ...|   Username|            2014|Daily or almost d...|Find answers to s...|  1-2 times per week|Stack Overflow wa...|31-60 minutes|                 Yes|Less than once pe...|                 Yes|No, and I don't k...| No, not really|Just as welcome n...|Tech articles wri...|  22|   Man|   No|Straight / Hetero...|White or of Europ...|        No|Appropriate in le...|                Easy|\n",
      "|         5|I am a developer ...|     Yes|Once a month or m...|OSS is, on averag...|  Employed full-time|             Ukraine|            No|Bachelor‚Äôs degr...|Computer science,...|Taken an online c...|10,000 or more em...|Academic research...|       16|        14|               9|   Very dissatisfied|Slightly dissatis...|  Somewhat confident|     Yes|      No|I am not interest...|Less than a year ago|Write any code;Wr...|      No|Industry that I'd...|I was preparing f...|           UAH|   Ukrainian hryvnia|       NA|      NA|           NA|         55|There is a schedu...|Being tasked with...|A few days each m...|              Office|A little above av...|Yes, because I se...|        NA|Yes, it's part of...|            Not sure|I have little or ...|C++;HTML/CSS;Java...|HTML/CSS;Java;Jav...|Couchbase;MongoDB...|Couchbase;Firebas...|Android;Linux;Mac...|Android;Docker;Ku...|Django;Express;Fl...|Flask;jQuery;Reac...|     Cordova;Node.js|Apache Spark;Hado...|IntelliJ;Notepad+...|Linux-based|Outside of work, ...|   Not at all|                  NA|       Yes|            Also Yes|  Yes|            Facebook|In real life (in ...|   Username|I don't remember|Multiple times pe...|Find answers to s...|More than 10 time...|Stack Overflow wa...|           NA|                 Yes|A few times per m...|No, I knew that S...|No, I've heard of...|Yes, definitely|Just as welcome n...|Tech meetups or e...|  30|   Man|   No|Straight / Hetero...|White or of Europ...|        No|Appropriate in le...|                Easy|\n",
      "|         6|I am not primaril...|     Yes|               Never|The quality of OS...|  Employed full-time|              Canada|            No|Bachelor‚Äôs degr...|Mathematics or st...|Taken an online c...|                  NA|Data or business ...|       13|        15|               3|      Very satisfied|  Slightly satisfied|      Very confident|      No|     Yes|I am not interest...|       1-2 years ago|Write any code;Co...|      No|Financial perform...|I heard about a j...|           CAD|     Canadian dollar|    40000| Monthly|       366420|         15|There's no schedu...|                  NA|A few days each m...|                Home|A little above av...|                  No|        NA|Yes, it's not par...|            Not sure|I have little or ...|          Java;R;SQL|    Python;Scala;SQL|  MongoDB;PostgreSQL|          PostgreSQL|Android;Google Cl...|Android;Google Cl...|                  NA|                  NA|              Hadoop|Hadoop;Pandas;Ten...|Android Studio;Ec...|    Windows|I do not use cont...|   Not at all|                  NA|        No|                 Yes|   No|             YouTube|In real life (in ...|      Login|            2011|A few times per m...|Find answers to s...|Less than once pe...|Stack Overflow wa...|  60+ minutes|                 Yes|I have never part...|No, I knew that S...|No, and I don't k...| No, not really|Just as welcome n...|Tech articles wri...|  28|   Man|   No|Straight / Hetero...|          East Asian|        No|            Too long|Neither easy nor ...|\n",
      "|         7|I am a developer ...|      No|               Never|The quality of OS...|Independent contr...|             Ukraine|            No|Bachelor‚Äôs degr...|Another engineeri...|Taught yourself a...|Just me - I am a ...|Designer;Develope...|        6|        17|               4|  Slightly satisfied|Neither satisfied...|                  NA|      NA|      NA|I‚Äôm not activel...|NA - I am an inde...|      Write any code|      No|Remote work optio...|                  NA|           USD|United States dollar|       NA|      NA|           NA|         32|There is a schedu...|Being tasked with...|All or almost all...|Other place, such...|             Average|Yes, because I se...|         6|                  NA|                  NA|                  NA| HTML/CSS;JavaScript| HTML/CSS;JavaScript|                  NA|                  NA|       MacOS;Windows|       MacOS;Windows|            React.js|            React.js|                  NA|                  NA|            PHPStorm|    Windows|I do not use cont...|           NA|Useful for decent...|        No|                 Yes|   No|             YouTube|                  NA|         NA|            2014|Daily or almost d...|Find answers to s...|  3-5 times per week|                  NA|           NA|                 Yes|Less than once pe...|                 Yes|No, and I don't k...|        Neutral|A lot more welcom...|                  NA|  42|   Man|   No|Straight / Hetero...|White or of Europ...|       Yes|Appropriate in le...|Neither easy nor ...|\n",
      "|         8|I code primarily ...|     Yes|Less than once pe...|OSS is, on averag...|Not employed, but...|               India|            NA|Bachelor‚Äôs degr...|Computer science,...|Taught yourself a...|                  NA|Developer, back-e...|        8|        16|              NA|                  NA|                  NA|                  NA|      NA|      NA|                  NA|                  NA|                  NA|      NA|                  NA|                  NA|            NA|                  NA|       NA|      NA|           NA|         NA|                  NA|                  NA|                  NA|                  NA|                  NA|                  NA|        NA|                  NA|                  NA|                  NA|Bash/Shell/PowerS...|Bash/Shell/PowerS...|Cassandra;Elastic...|Cassandra;DynamoD...|AWS;Docker;Heroku...|Android;Arduino;A...|Express;Flask;Rea...|Django;Express;Fl...|Hadoop;Node.js;Pa...|Ansible;Apache Sp...|Atom;IntelliJ;IPy...|Linux-based|Development;Testi...|           NA|Useful across man...|       Yes|                SIGH|  Yes|             YouTube|In real life (in ...|     Handle|            2012|A few times per week|Find answers to s...|Less than once pe...|Stack Overflow wa...|11-30 minutes|                 Yes|Less than once pe...|                 Yes|No, and I don't k...|Yes, definitely|A lot more welcom...|Tech articles wri...|  24|   Man|   No|Straight / Hetero...|                  NA|        NA|Appropriate in le...|Neither easy nor ...|\n",
      "|         9|I am a developer ...|     Yes|Once a month or m...|The quality of OS...|  Employed full-time|         New Zealand|            No|Some college/univ...|Computer science,...|Taken an online c...|  10 to 19 employees|Database administ...|       12|        11|               4|  Slightly satisfied|  Slightly satisfied|  Somewhat confident|      No|Not sure|I‚Äôm not activel...|Less than a year ago|Write any code;In...|     Yes|Financial perform...|I was preparing f...|           NZD|  New Zealand dollar|   138000|  Yearly|        95179|         32|There is a schedu...|Being tasked with...|Less than once pe...|              Office|A little above av...|Yes, because I se...|        12|Yes, it's not par...|            Not sure|I have some influ...|Bash/Shell/PowerS...|Bash/Shell/PowerS...|DynamoDB;PostgreS...|PostgreSQL;Redis;...|AWS;Docker;Heroku...|AWS;Docker;Heroku...|Express;Ruby on R...|Express;Ruby on R...|    Node.js;Unity 3D|             Node.js|                 Vim|      MacOS|Development;Testi...|   Not at all|An irresponsible ...|        No|                SIGH|  Yes|             Twitter|In real life (in ...|   Username|            2013|Daily or almost d...|Find answers to s...|  3-5 times per week|They were about t...|           NA|                 Yes|Less than once pe...|No, I knew that S...|No, and I don't k...|  Yes, somewhat|Just as welcome n...|                  NA|  23|   Man|   No|            Bisexual|White or of Europ...|        No|Appropriate in le...|Neither easy nor ...|\n",
      "|        10|I am a developer ...|     Yes|Once a month or m...|OSS is, on averag...|  Employed full-time|               India|            No|Master‚Äôs degree...|                  NA|                  NA|10,000 or more em...|Data or business ...|       12|        20|              10|Slightly dissatis...|Slightly dissatis...|  Somewhat confident|     Yes|     Yes|I‚Äôm not activel...|       3-4 years ago|                  NA|      No|Languages, framew...|                  NA|           INR|        Indian rupee|   950000|  Yearly|        13293|         70|There's no schedu...|                  NA|A few days each m...|                Home|   Far above average|Yes, because I se...|         4|Yes, it's part of...|                  NA|                  NA|C#;Go;JavaScript;...|C#;Go;JavaScript;...|Elasticsearch;Mon...|Elasticsearch;Mon...|       Linux;Windows|Android;Linux;Ras...|Angular/Angular.j...|Angular/Angular.j...|.NET;Node.js;Pand...|.NET;Node.js;Tens...|Android Studio;Ec...|    Windows|                  NA|   Not at all|Useful for immuta...|        No|                 Yes|  Yes|             YouTube|             Neither|Screen Name|              NA|Multiple times pe...|Find answers to s...|  3-5 times per week|They were about t...|           NA|                 Yes|A few times per m...|                 Yes|No, and I don't k...|  Yes, somewhat|Somewhat less wel...|Tech articles wri...|  NA|    NA|   NA|                  NA|                  NA|       Yes|            Too long|           Difficult|\n",
      "|        11|I code primarily ...|     Yes|Once a month or m...|The quality of OS...|                  NA| Antigua and Barbuda|Yes, full-time|Primary/elementar...|                  NA|Contributed to op...|                  NA|                  NA|        2|        11|              NA|                  NA|                  NA|                  NA|      NA|      NA|                  NA|                  NA|                  NA|      NA|                  NA|                  NA|            NA|                  NA|       NA|      NA|           NA|         NA|                  NA|                  NA|                  NA|                  NA|                  NA|                  NA|        NA|                  NA|                  NA|                  NA|           Other(s):|           Other(s):|                  NA|                  NA|                  NA|                  NA|                  NA|                  NA|                  NA|                  NA|                  NA|Linux-based|                  NA|           NA|Useful for immuta...|        No|                 Yes|   NA|                  NA|             Neither|   Username|I don't remember|Less than once pe...|Find answers to s...|Less than once pe...|                  NA|           NA|                 Yes|                  NA|No, I knew that S...|No, I've heard of...| No, not at all|Not applicable - ...|                  NA|  22|   Man|  Yes|Bisexual;Gay or L...|Black or of Afric...|        No|Appropriate in le...|                Easy|\n",
      "|        12|I am a student wh...|      No|               Never|OSS is, on averag...|  Employed part-time|              Canada|Yes, full-time|Some college/univ...|Mathematics or st...|Taken an online c...|                  NA|Data or business ...|        5|        16|              NA|                  NA|                  NA|                  NA|      NA|      NA|I am not interest...|Less than a year ago|                  NA|      NA|Financial perform...|My job status cha...|            NA|                  NA|       NA|      NA|           NA|         NA|                  NA|                  NA|                  NA|                  NA|                  NA|                  NA|        NA|                  NA|                  NA|                  NA|Bash/Shell/PowerS...|Bash/Shell/PowerS...|MySQL;PostgreSQL;...|Elasticsearch;Mon...|AWS;Docker;Google...|AWS;Linux;MacOS;S...|                  NA|                  NA|Ansible;Chef;Hado...|Ansible;Apache Sp...|IPython / Jupyter...|      MacOS|  Testing;Production|           NA|                  NA|       Yes|                 Yes|  Yes|              Reddit|In real life (in ...|   Username|            2014|A few times per m...|Find answers to s...|  1-2 times per week|The other resourc...|11-30 minutes|Not sure / can't ...|                  NA|No, I knew that S...|                 Yes|  Yes, somewhat|Just as welcome n...|Courses on techno...|  21| Woman|   No|Straight / Hetero...|Black or of Afric...|        No|Appropriate in le...|                Easy|\n",
      "|        13|I am a developer ...|     Yes|Less than once a ...|OSS is, on averag...|  Employed full-time|       United States|            No|Master‚Äôs degree...|Computer science,...|Taken an online c...|  10 to 19 employees|Data or business ...|       17|        11|               8|      Very satisfied|      Very satisfied|                  NA|      NA|      NA|I am not interest...|       3-4 years ago|Complete a take-h...|     Yes|Languages, framew...|I was preparing f...|           USD|United States dollar|    90000|  Yearly|        90000|         40|There is a schedu...|Meetings;Non-work...|All or almost all...|                Home|A little above av...|Yes, because I se...|         5|No, but I think w...|Developers and ma...|I have a great de...|Bash/Shell/PowerS...|Bash/Shell/PowerS...|Couchbase;DynamoD...|Firebase;MySQL;Redis|Android;AWS;Docke...|Android;AWS;Docke...|Angular/Angular.j...|      Express;Vue.js|     Node.js;Xamarin|  Node.js;TensorFlow|Vim;Visual Studio...|    Windows|Development;Testi...|   Not at all|Useful for decent...|       Yes|                 Yes|  Yes|             Twitter|In real life (in ...|   Username|            2011|Multiple times pe...|Find answers to s...|More than 10 time...|Stack Overflow wa...|11-30 minutes|                 Yes|Less than once pe...|                 Yes|No, I've heard of...|        Neutral|Somewhat more wel...|Tech articles wri...|  28|   Man|   No|Straight / Hetero...|White or of Europ...|       Yes|Appropriate in le...|                Easy|\n",
      "|        14|I am a developer ...|     Yes|Less than once pe...|The quality of OS...|  Employed full-time|             Germany|            No|Other doctoral de...|Computer science,...|Completed an indu...|100 to 499 employees|Developer, deskto...|       13|        16|               2|      Very satisfied|      Very satisfied|      Very confident|      No|      No|I am not interest...|       1-2 years ago|Interview with pe...|      No|Languages, framew...|Something else ch...|           EUR|       European Euro|     4150| Monthly|        57060|         40|There is a schedu...|Being tasked with...|Less than once pe...|              Office|A little above av...|Yes, because I se...|         4|Yes, it's part of...|Developers typica...|I have some influ...|                 C++|                 C++|                  NA|                  NA|             Windows|             Windows|                  NA|                  NA|                  NA|       Unreal Engine|       Visual Studio|    Windows|I do not use cont...|   Not at all|                  NA|       Yes|                 Yes|  Yes|              Reddit|              Online|   Username|            2010|Multiple times pe...|Find answers to s...|  3-5 times per week|They were about t...|           NA|                 Yes|Less than once pe...|                 Yes|No, and I don't k...| No, not really|Just as welcome n...|Tech articles wri...|  31|   Man|   No|Straight / Hetero...|White or of Europ...|        No|           Too short|                Easy|\n",
      "|        15|I am a student wh...|     Yes|               Never|OSS is, on averag...|Not employed, but...|               India|Yes, full-time|Secondary school ...|                  NA|Taken an online c...|                  NA|             Student|        3|        13|              NA|                  NA|                  NA|                  NA|      NA|      NA|I‚Äôm not activel...|I've never had a job|                  NA|      NA|Industry that I'd...|Something else ch...|            NA|                  NA|       NA|      NA|           NA|         NA|                  NA|                  NA|                  NA|                  NA|                  NA|                  NA|        NA|                  NA|                  NA|                  NA|Assembly;Bash/She...|Assembly;Bash/She...|MariaDB;MySQL;Ora...|MariaDB;MongoDB;M...|       Linux;Windows|Android;Google Cl...|                  NA|Angular/Angular.j...|                  NA|.NET;.NET Core;No...|Atom;NetBeans;Not...|Linux-based|         Development|           NA|                  NA|       Yes|                 Yes|What?|             YouTube|In real life (in ...|         NA|            2018|Daily or almost d...|Find answers to s...|More than 10 time...|They were about t...|           NA|                 Yes|Less than once pe...|                 Yes|No, I've heard of...|  Yes, somewhat|Just as welcome n...|Tech articles wri...|  20|   Man|   No|                  NA|                  NA|       Yes|            Too long|Neither easy nor ...|\n",
      "|        16|I am a developer ...|     Yes|               Never|The quality of OS...|  Employed full-time|      United Kingdom|            No|Master‚Äôs degree...|                  NA|Taken an online c...|100 to 499 employees|Developer, full-s...|       10|        17|               3|      Very satisfied|  Slightly satisfied|  Somewhat confident|      No|      No|I‚Äôm not activel...|       3-4 years ago|Interview with pe...|     Yes|Languages, framew...|I heard about a j...|           GBP|      Pound sterling|    29000| Monthly|       455352|         40|There is a schedu...|Being tasked with...|A few days each m...|                Home|             Average|                  No|        NA|No, but I think w...|Developers and ma...|I have some influ...|Bash/Shell/PowerS...|C#;HTML/CSS;JavaS...|MongoDB;Microsoft...|Elasticsearch;Mon...|                  NA|AWS;Google Cloud ...|Angular/Angular.j...|Angular/Angular.j...|.NET;.NET Core;No...|.NET Core;Node.js...|Visual Studio;Vis...|    Windows|I do not use cont...|   Not at all|       A passing fad|        No|                SIGH|   No|             YouTube|              Online|   Username|            2010|Multiple times pe...|Find answers to s...|Less than once pe...|Stack Overflow wa...|11-30 minutes|                 Yes|Less than once pe...|                 Yes|No, I've heard of...|  Yes, somewhat|Just as welcome n...|Tech articles wri...|  26|   Man|   No|Straight / Hetero...|White or of Europ...|        No|Appropriate in le...|Neither easy nor ...|\n",
      "|        17|I am a developer ...|     Yes|Less than once a ...|The quality of OS...|  Employed full-time|           Australia|            No|Bachelor‚Äôs degr...|Computer science,...|Taken an online c...|  20 to 99 employees|Developer, back-e...|        5|        18|               2|  Slightly satisfied|Neither satisfied...|  Somewhat confident|      No|      No|I am actively loo...|Less than a year ago|Complete a take-h...|      No|Languages, framew...|I was preparing f...|           AUD|   Australian dollar|    90000|  Yearly|        65277|         45|There's no schedu...|Distracting work ...|A few days each m...|Other place, such...|A little above av...|Yes, because I se...|         5|Yes, it's part of...|Developers typica...|I have little or ...|Bash/Shell/PowerS...|Bash/Shell/PowerS...|  MongoDB;PostgreSQL|Elasticsearch;Fir...|Arduino;Docker;He...|              Docker|Angular/Angular.j...|Angular/Angular.j...|             Node.js|Node.js;React Native|IntelliJ;Visual S...|Linux-based|Development;Testi...|   Not at all|       A passing fad|       Yes|Fortunately, some...|What?|             YouTube|In real life (in ...|         NA|            2014|Daily or almost d...|Find answers to s...| 6-10 times per week|Stack Overflow wa...| 0-10 minutes|                 Yes|A few times per week|No, I didn't know...|No, I've heard of...|  Yes, somewhat|Just as welcome n...|Tech articles wri...|  29|   Man|   No|Straight / Hetero...|Hispanic or Latin...|        No|Appropriate in le...|                Easy|\n",
      "|        18|I am not primaril...|     Yes|Less than once a ...|The quality of OS...|  Employed full-time|  Russian Federation|            No|Master‚Äôs degree...|Computer science,...|Taken an online c...|1,000 to 4,999 em...|Data or business ...|       10|        18|               3|  Slightly satisfied|      Very satisfied|      Very confident|     Yes|     Yes|I‚Äôm not activel...|       3-4 years ago|Complete a take-h...|      No|Financial perform...|My job status cha...|           RUB|       Russian ruble|   120000| Monthly|        21996|         40|There's no schedu...|Distracting work ...|Less than once pe...|              Office|             Average|Yes, because I se...|       0.5|Yes, it's not par...|            Not sure|I have some influ...|            Python;R|            Python;R|             MongoDB|             MongoDB|                  NA|                  NA|                  NA|                  NA|                  NA|                  NA|     PyCharm;RStudio|Linux-based|          Production|           NA|       A passing fad|       Yes|                SIGH|  Yes|VK –í–ö–æ–Ω—Ç–∞ÃÅ...|In real life (in ...|      Login|I don't remember|Multiple times pe...|Find answers to s...|More than 10 time...|Stack Overflow wa...| 0-10 minutes|                 Yes|I have never part...|No, I knew that S...|No, and I don't k...| No, not really|Just as welcome n...|                  NA|  NA|   Man|   No|Straight / Hetero...|White or of Europ...|       Yes|Appropriate in le...|Neither easy nor ...|\n",
      "|        19|I am a developer ...|     Yes|               Never|The quality of OS...|  Employed full-time|              Brazil|            No|Some college/univ...|Computer science,...|Received on-the-j...|100 to 499 employees|Developer, full-s...|       14|        13|              13|   Very dissatisfied|      Very satisfied|      Very confident|      No|      No|I‚Äôm not activel...|Less than a year ago|Interview with pe...|      No|Languages, framew...|My job status cha...|           BRL|      Brazilian real|     9500| Monthly|        31140|          8|There is a schedu...|Distracting work ...|A few days each m...|              Office|   Far above average|Yes, because I se...|         3|Yes, it's part of...|Developers typica...|I have some influ...|C#;HTML/CSS;Java;...| HTML/CSS;JavaScript|DynamoDB;Firebase...|            DynamoDB|Android;AWS;Micro...|                 AWS|Angular/Angular.j...|    Express;React.js|.NET;.NET Core;No...|             Node.js|Vim;Visual Studio...|      MacOS|Development;Testi...|   Not at all|                  NA|        No|                SIGH|  Yes|            WhatsApp|In real life (in ...|   Username|            2008|Daily or almost d...|Find answers to s...|More than 10 time...|Stack Overflow wa...|  60+ minutes|                 Yes|I have never part...|No, I knew that S...|No, I've heard of...|        Neutral|Just as welcome n...|Tech articles wri...|  31|   Man|   No|Straight / Hetero...|Hispanic or Latin...|       Yes|            Too long|                Easy|\n",
      "+----------+--------------------+--------+--------------------+--------------------+--------------------+--------------------+--------------+--------------------+--------------------+--------------------+--------------------+--------------------+---------+----------+----------------+--------------------+--------------------+--------------------+--------+--------+--------------------+--------------------+--------------------+--------+--------------------+--------------------+--------------+--------------------+---------+--------+-------------+-----------+--------------------+--------------------+--------------------+--------------------+--------------------+--------------------+----------+--------------------+--------------------+--------------------+--------------------+--------------------+--------------------+--------------------+--------------------+--------------------+--------------------+--------------------+--------------------+--------------------+--------------------+-----------+--------------------+-------------+--------------------+----------+--------------------+-----+--------------------+--------------------+-----------+----------------+--------------------+--------------------+--------------------+--------------------+-------------+--------------------+--------------------+--------------------+--------------------+---------------+--------------------+--------------------+----+------+-----+--------------------+--------------------+----------+--------------------+--------------------+\n",
      "only showing top 20 rows\n",
      "\n"
     ]
    }
   ],
   "source": [
    "df_pyspark.show()"
   ]
  },
  {
   "cell_type": "code",
   "execution_count": 10,
   "metadata": {},
   "outputs": [
    {
     "name": "stdout",
     "output_type": "stream",
     "text": [
      "+-------+---+\n",
      "|    _c0|_c1|\n",
      "+-------+---+\n",
      "|   Name|Age|\n",
      "|     Ns| 20|\n",
      "|Ns Loni| 21|\n",
      "|   Loni| 22|\n",
      "+-------+---+\n",
      "\n"
     ]
    }
   ],
   "source": [
    "df_pyspark = spark.read.csv('ns_spark_data.csv')\n",
    "\n",
    "df_pyspark.show()"
   ]
  },
  {
   "cell_type": "code",
   "execution_count": 11,
   "metadata": {},
   "outputs": [
    {
     "data": {
      "text/plain": [
       "DataFrame[Name: string, Age: string]"
      ]
     },
     "execution_count": 11,
     "metadata": {},
     "output_type": "execute_result"
    }
   ],
   "source": [
    "spark.read.option('header', 'true').csv('ns_spark_data.csv')"
   ]
  },
  {
   "cell_type": "code",
   "execution_count": 12,
   "metadata": {},
   "outputs": [
    {
     "name": "stdout",
     "output_type": "stream",
     "text": [
      "+-------+---+\n",
      "|   Name|Age|\n",
      "+-------+---+\n",
      "|     Ns| 20|\n",
      "|Ns Loni| 21|\n",
      "|   Loni| 22|\n",
      "+-------+---+\n",
      "\n"
     ]
    }
   ],
   "source": [
    "spark.read.option('header', 'true').csv('ns_spark_data.csv').show()"
   ]
  },
  {
   "cell_type": "code",
   "execution_count": 13,
   "metadata": {},
   "outputs": [
    {
     "name": "stdout",
     "output_type": "stream",
     "text": [
      "<class 'pyspark.sql.dataframe.DataFrame'>\n"
     ]
    }
   ],
   "source": [
    "print(type(df_pyspark))"
   ]
  },
  {
   "cell_type": "code",
   "execution_count": 14,
   "metadata": {},
   "outputs": [
    {
     "data": {
      "text/plain": [
       "[Row(_c0='Name', _c1='Age'), Row(_c0='Ns', _c1='20')]"
      ]
     },
     "execution_count": 14,
     "metadata": {},
     "output_type": "execute_result"
    }
   ],
   "source": [
    "df_pyspark.head(2)"
   ]
  },
  {
   "cell_type": "code",
   "execution_count": 15,
   "metadata": {},
   "outputs": [
    {
     "data": {
      "text/plain": [
       "<bound method DataFrame.printSchema of DataFrame[_c0: string, _c1: string]>"
      ]
     },
     "execution_count": 15,
     "metadata": {},
     "output_type": "execute_result"
    }
   ],
   "source": [
    "df_pyspark.printSchema"
   ]
  },
  {
   "cell_type": "code",
   "execution_count": null,
   "metadata": {},
   "outputs": [],
   "source": []
  }
 ],
 "metadata": {
  "kernelspec": {
   "display_name": "Python 3",
   "language": "python",
   "name": "python3"
  },
  "language_info": {
   "codemirror_mode": {
    "name": "ipython",
    "version": 3
   },
   "file_extension": ".py",
   "mimetype": "text/x-python",
   "name": "python",
   "nbconvert_exporter": "python",
   "pygments_lexer": "ipython3",
   "version": "3.12.9"
  }
 },
 "nbformat": 4,
 "nbformat_minor": 2
}
