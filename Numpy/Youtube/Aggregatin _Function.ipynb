{
 "cells": [
  {
   "cell_type": "code",
   "execution_count": 1,
   "metadata": {},
   "outputs": [],
   "source": [
    "import numpy as ns"
   ]
  },
  {
   "cell_type": "code",
   "execution_count": 5,
   "metadata": {},
   "outputs": [
    {
     "name": "stdout",
     "output_type": "stream",
     "text": [
      "[1 2 3 4 5]\n",
      "15\n",
      "1\n",
      "5\n",
      "5\n",
      "3.0\n",
      "[ 1  3  6 10 15]\n",
      "[  1   2   6  24 120]\n"
     ]
    }
   ],
   "source": [
    "arr = ns.array([1,2,3,4,5])\n",
    "print(arr)\n",
    "\n",
    "print(ns.sum(arr))\n",
    "\n",
    "print(ns.min(arr))\n",
    "\n",
    "print(ns.max(arr))\n",
    "\n",
    "print(ns.size(arr))\n",
    "\n",
    "print(ns.mean(arr))\n",
    "\n",
    "print(ns.cumsum(arr))\n",
    "\n",
    "print(ns.cumprod(arr))"
   ]
  },
  {
   "cell_type": "code",
   "execution_count": 17,
   "metadata": {},
   "outputs": [
    {
     "name": "stdout",
     "output_type": "stream",
     "text": [
      "[100, 200, 300, 400, 500, 10, 20, 30, 40, 50]\n",
      "[100 200 300 400 500] \n",
      " [10 20 30 40 50]\n",
      "\n",
      "Total Price is: 1500\n",
      "Total quantity is: 150\n"
     ]
    }
   ],
   "source": [
    "a = [100,200,300,400,500]\n",
    "b = [10,20,30,40,50]\n",
    "\n",
    "print(a+b)\n",
    "\n",
    "price = ns.array(a)\n",
    "\n",
    "quantity = ns.array(b)\n",
    "\n",
    "\n",
    "print(price, \"\\n\", quantity)\n",
    "\n",
    "print()\n",
    "\n",
    "print(f\"Total Price is: {ns.sum(price)}\")\n",
    "print(f\"Total quantity is: {ns.sum(quantity)}\")\n"
   ]
  },
  {
   "cell_type": "code",
   "execution_count": 18,
   "metadata": {},
   "outputs": [
    {
     "name": "stdout",
     "output_type": "stream",
     "text": [
      "Thank You\n"
     ]
    }
   ],
   "source": [
    "print(\"Thank You\")"
   ]
  }
 ],
 "metadata": {
  "kernelspec": {
   "display_name": "base",
   "language": "python",
   "name": "python3"
  },
  "language_info": {
   "codemirror_mode": {
    "name": "ipython",
    "version": 3
   },
   "file_extension": ".py",
   "mimetype": "text/x-python",
   "name": "python",
   "nbconvert_exporter": "python",
   "pygments_lexer": "ipython3",
   "version": "3.12.7"
  }
 },
 "nbformat": 4,
 "nbformat_minor": 2
}
