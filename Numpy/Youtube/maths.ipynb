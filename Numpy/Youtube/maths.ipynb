{
 "cells": [
  {
   "cell_type": "code",
   "execution_count": null,
   "metadata": {},
   "outputs": [],
   "source": [
    "# c = a-b\n",
    "# ns.subtract(a,b)\n",
    "# ns.add\n",
    "# a/b\n",
    "# ns.divide(a/b)\n",
    "\n",
    "# multiply\n",
    "# exp\n",
    "# sqrt\n",
    "# pow\n",
    "# a*b"
   ]
  },
  {
   "cell_type": "code",
   "execution_count": 2,
   "metadata": {},
   "outputs": [],
   "source": [
    "import numpy as ns"
   ]
  },
  {
   "cell_type": "code",
   "execution_count": 3,
   "metadata": {},
   "outputs": [
    {
     "name": "stdout",
     "output_type": "stream",
     "text": [
      "[[2 4 6]\n",
      " [6 4 2]]\n"
     ]
    }
   ],
   "source": [
    "arr1 = ns.array([[1,2,3],[3,2,1]])\n",
    "arr2 = ns.array([[1,2,3],[3,2,1]])\n",
    "\n",
    "print(arr1 + arr2)"
   ]
  },
  {
   "cell_type": "code",
   "execution_count": 4,
   "metadata": {},
   "outputs": [
    {
     "name": "stdout",
     "output_type": "stream",
     "text": [
      "[[1 4 9]\n",
      " [9 4 1]]\n"
     ]
    }
   ],
   "source": [
    "arr1 = ns.array([[1,2,3],[3,2,1]])\n",
    "arr2 = ns.array([[1,2,3],[3,2,1]])\n",
    "\n",
    "print(arr1 * arr2)"
   ]
  },
  {
   "cell_type": "code",
   "execution_count": 5,
   "metadata": {},
   "outputs": [
    {
     "name": "stdout",
     "output_type": "stream",
     "text": [
      "[[1. 1. 1.]\n",
      " [1. 1. 1.]]\n"
     ]
    }
   ],
   "source": [
    "arr1 = ns.array([[1,2,3],[3,2,1]])\n",
    "arr2 = ns.array([[1,2,3],[3,2,1]])\n",
    "\n",
    "print(arr1 / arr2)"
   ]
  },
  {
   "cell_type": "code",
   "execution_count": 6,
   "metadata": {},
   "outputs": [
    {
     "name": "stdout",
     "output_type": "stream",
     "text": [
      "[[ 1  4 27]\n",
      " [27  4  1]]\n"
     ]
    }
   ],
   "source": [
    "print(ns.power(arr1, arr2))"
   ]
  },
  {
   "cell_type": "code",
   "execution_count": null,
   "metadata": {},
   "outputs": [],
   "source": [
    "45:00"
   ]
  }
 ],
 "metadata": {
  "kernelspec": {
   "display_name": "base",
   "language": "python",
   "name": "python3"
  },
  "language_info": {
   "codemirror_mode": {
    "name": "ipython",
    "version": 3
   },
   "file_extension": ".py",
   "mimetype": "text/x-python",
   "name": "python",
   "nbconvert_exporter": "python",
   "pygments_lexer": "ipython3",
   "version": "3.12.7"
  }
 },
 "nbformat": 4,
 "nbformat_minor": 2
}
