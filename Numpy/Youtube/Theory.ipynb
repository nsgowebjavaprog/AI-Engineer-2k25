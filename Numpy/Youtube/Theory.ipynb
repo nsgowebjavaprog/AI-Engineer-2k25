{
 "cells": [
  {
   "cell_type": "markdown",
   "metadata": {},
   "source": [
    "# NumPy = Numerical Python\n",
    "\n",
    "# Defines in a Mutli-Dimention and solve more complex problems on maths like liinear algebra, statstics and probalility and more like data science and ai maths.\n",
    "\n",
    "# it's type of the package.\n",
    "\n",
    "# Eg: Maths opration to solvee big problem in simple way.\n",
    "\n",
    "# In python storin ga array take lot time to store all array, but in Numpy it reduce time and space complexity.\n",
    "\n",
    "# Eg: list_1 = [10,20,30,40]\n",
    "\n",
    "But in Array --->\n",
    "\n",
    "# arr = [10 20 30] --> Continueous Memory allocation.\n",
    "\n",
    "# Store in less memory.\n",
    "\n",
    "# pip install numpy\n",
    "\n",
    "# import numpy as np\n",
    "\n",
    "#  look as following file and folders"
   ]
  },
  {
   "cell_type": "code",
   "execution_count": 1,
   "metadata": {},
   "outputs": [],
   "source": [
    "import numpy as ns"
   ]
  },
  {
   "cell_type": "code",
   "execution_count": 7,
   "metadata": {},
   "outputs": [
    {
     "name": "stdout",
     "output_type": "stream",
     "text": [
      "[ 20  40  60  80 100]\n",
      "[10 20 30 40 50]\n",
      "[ 60  70  80  90 100]\n",
      "\n",
      "[ 70  90 110 130 150]\n"
     ]
    }
   ],
   "source": [
    "a = ns.array([10, 20, 30, 40, 50])\n",
    "\n",
    "b = ns.array([60, 70, 80, 90, 100])\n",
    "\n",
    "c = ns.array([10, 20, 30, 40, 50])\n",
    "\n",
    "print(a+c)\n",
    "\n",
    "print(a)\n",
    "print(b)\n",
    "print()\n",
    "print(a + b)"
   ]
  },
  {
   "cell_type": "code",
   "execution_count": 5,
   "metadata": {},
   "outputs": [
    {
     "name": "stdout",
     "output_type": "stream",
     "text": [
      "20\n"
     ]
    }
   ],
   "source": [
    "print(a[1])"
   ]
  },
  {
   "cell_type": "markdown",
   "metadata": {},
   "source": [
    "# Numpy makes to easy to perform a maths oprations.\n",
    "\n",
    "# Use to create a n-dimentional arrays.\n",
    "\n",
    "# finding perticular ele is more easy compaire to array."
   ]
  },
  {
   "cell_type": "markdown",
   "metadata": {},
   "source": [
    "[List]------------------------------------[Array]\n",
    "1. List Not handle a Maths Operations.   1. Array handles Maths opeartions.\n",
    "2. List take more time.                  2. Oppo\n",
    "3. List is slow compaing to array.       3. Oppo\n",
    "4. List will store diff data types.      4. Oppo"
   ]
  },
  {
   "cell_type": "code",
   "execution_count": 8,
   "metadata": {},
   "outputs": [
    {
     "name": "stdout",
     "output_type": "stream",
     "text": [
      "[ 1  2  3  4  5  6  7  8  9 10]\n"
     ]
    }
   ],
   "source": [
    "a = ns.array([1,2,3,4,5,6,7,8,9,10])\n",
    "\n",
    "print(a)"
   ]
  },
  {
   "cell_type": "code",
   "execution_count": 9,
   "metadata": {},
   "outputs": [
    {
     "name": "stdout",
     "output_type": "stream",
     "text": [
      "[[  1   2   3   4   5   6   7   8   9  10]\n",
      " [ 11  22  33  44  55  66  77  88  99 111]]\n"
     ]
    }
   ],
   "source": [
    "a = ns.array([[1,2,3,4,5,6,7,8,9,10], [11,22,33,44,55,66,77,88,99,111]])\n",
    "\n",
    "print(a)"
   ]
  },
  {
   "cell_type": "code",
   "execution_count": 14,
   "metadata": {},
   "outputs": [
    {
     "name": "stdout",
     "output_type": "stream",
     "text": [
      "[[  1   2   3   4   5]\n",
      " [  6   7   8   9  10]\n",
      " [ 11  22  33  44  55]\n",
      " [ 66  77  88  99 111]]\n"
     ]
    }
   ],
   "source": [
    "a = ns.array([[1,2,3,4,5],[6,7,8,9,10], [11,22,33,44,55],[66,77,88,99,111]])\n",
    "\n",
    "print(a)"
   ]
  },
  {
   "cell_type": "code",
   "execution_count": 16,
   "metadata": {},
   "outputs": [
    {
     "name": "stdout",
     "output_type": "stream",
     "text": [
      "Thanks NS-LONI\n"
     ]
    }
   ],
   "source": [
    "print(\"Thanks NS-LONI\")"
   ]
  }
 ],
 "metadata": {
  "kernelspec": {
   "display_name": "base",
   "language": "python",
   "name": "python3"
  },
  "language_info": {
   "codemirror_mode": {
    "name": "ipython",
    "version": 3
   },
   "file_extension": ".py",
   "mimetype": "text/x-python",
   "name": "python",
   "nbconvert_exporter": "python",
   "pygments_lexer": "ipython3",
   "version": "3.12.7"
  }
 },
 "nbformat": 4,
 "nbformat_minor": 2
}
